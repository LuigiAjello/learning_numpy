{
  "nbformat": 4,
  "nbformat_minor": 0,
  "metadata": {
    "colab": {
      "provenance": [],
      "toc_visible": true,
      "mount_file_id": "16YWmWdwH20ePwP69rqwfxUSPjaYZgna9",
      "authorship_tag": "ABX9TyN+azDJhdzMWMWUqP/C/rHs",
      "include_colab_link": true
    },
    "kernelspec": {
      "name": "python3",
      "display_name": "Python 3"
    },
    "language_info": {
      "name": "python"
    }
  },
  "cells": [
    {
      "cell_type": "markdown",
      "metadata": {
        "id": "view-in-github",
        "colab_type": "text"
      },
      "source": [
        "<a href=\"https://colab.research.google.com/github/LuigiAjello/learning_numpy/blob/main/numpy_pynb.ipynb\" target=\"_parent\"><img src=\"https://colab.research.google.com/assets/colab-badge.svg\" alt=\"Open In Colab\"/></a>"
      ]
    },
    {
      "cell_type": "code",
      "execution_count": 2,
      "metadata": {
        "id": "MVuJl-uNQ1dc"
      },
      "outputs": [],
      "source": [
        "import numpy as np\n",
        "import sys"
      ]
    },
    {
      "cell_type": "code",
      "source": [
        "a=np.array([1,2,3],dtype= \"int16\") #como sabemos que os dados vao ser todos inteiros podemos indicar seu tipo e como sabemos que vao ser pequenos podemos indicar quantos bites usar para nao precisar usar mais que iremos 16bits(2bytes [1 byte = 8 bits])\n",
        "print(a)"
      ],
      "metadata": {
        "colab": {
          "base_uri": "https://localhost:8080/"
        },
        "id": "HwHhaDgPRG1w",
        "outputId": "a778131a-bbb0-45f2-ef81-aee832d3eb9a"
      },
      "execution_count": 41,
      "outputs": [
        {
          "output_type": "stream",
          "name": "stdout",
          "text": [
            "[1 2 3]\n"
          ]
        }
      ]
    },
    {
      "cell_type": "code",
      "source": [
        "b =np.array([[9.0,8.0,7.0],[6.0,5.0,4.0]])#aqui nao especificamos nada\n",
        "print(b)"
      ],
      "metadata": {
        "colab": {
          "base_uri": "https://localhost:8080/"
        },
        "id": "eW430AkERhXJ",
        "outputId": "97fa33fd-7d1e-4f6c-8427-78f4bf7bf390"
      },
      "execution_count": null,
      "outputs": [
        {
          "output_type": "stream",
          "name": "stdout",
          "text": [
            "[[9. 8. 7.]\n",
            " [6. 5. 4.]]\n"
          ]
        }
      ]
    },
    {
      "cell_type": "code",
      "source": [
        "#Get Dimesion\n",
        "print(a.ndim)\n",
        "\n",
        "print(b.ndim)"
      ],
      "metadata": {
        "colab": {
          "base_uri": "https://localhost:8080/"
        },
        "id": "Xgp1jmzZROx7",
        "outputId": "e0332e85-1df6-48ce-efe4-fd99bd347d06"
      },
      "execution_count": null,
      "outputs": [
        {
          "output_type": "stream",
          "name": "stdout",
          "text": [
            "1\n",
            "2\n"
          ]
        }
      ]
    },
    {
      "cell_type": "code",
      "source": [
        "#Get Shape\n",
        "print(a.shape)\n",
        "print(b.shape)"
      ],
      "metadata": {
        "colab": {
          "base_uri": "https://localhost:8080/"
        },
        "id": "wbASsyXFSR1b",
        "outputId": "4cc748ae-6d81-41f1-a1c8-d96e430c50c9"
      },
      "execution_count": null,
      "outputs": [
        {
          "output_type": "stream",
          "name": "stdout",
          "text": [
            "(3,)\n",
            "(2, 3)\n"
          ]
        }
      ]
    },
    {
      "cell_type": "code",
      "source": [
        "# Get Type\n",
        "\n",
        "print(a.dtype)\n",
        "print(b.dtype)"
      ],
      "metadata": {
        "colab": {
          "base_uri": "https://localhost:8080/"
        },
        "id": "fSv-9FUHTaBJ",
        "outputId": "fe063c86-0331-4650-a0cc-f38698b6c67e"
      },
      "execution_count": null,
      "outputs": [
        {
          "output_type": "stream",
          "name": "stdout",
          "text": [
            "int16\n",
            "float64\n"
          ]
        }
      ]
    },
    {
      "cell_type": "code",
      "source": [
        "#Get Size (tamanho dos BYTES  [nao necessariamente sao os de fatos utilizados posso nao especificar 16 e usar mais que o necessario ])\n",
        "print(a.itemsize )\n",
        "print(b.itemsize)"
      ],
      "metadata": {
        "colab": {
          "base_uri": "https://localhost:8080/"
        },
        "id": "3Qg4htiMTCE7",
        "outputId": "d922725e-5588-40b5-e468-4df887241d1c"
      },
      "execution_count": null,
      "outputs": [
        {
          "output_type": "stream",
          "name": "stdout",
          "text": [
            "2\n",
            "8\n"
          ]
        }
      ]
    },
    {
      "cell_type": "code",
      "source": [
        "#get total size (tamanho dos itens)\n",
        "print(a.size)\n",
        "print(b.size)"
      ],
      "metadata": {
        "colab": {
          "base_uri": "https://localhost:8080/"
        },
        "id": "Te1RRl5sVLWV",
        "outputId": "a93481af-f9e9-438b-c48d-28fd47e9abf9"
      },
      "execution_count": null,
      "outputs": [
        {
          "output_type": "stream",
          "name": "stdout",
          "text": [
            "3\n",
            "6\n"
          ]
        }
      ]
    },
    {
      "cell_type": "markdown",
      "source": [
        "# Accessing/changing specific elements, rows, columns, etc\n"
      ],
      "metadata": {
        "id": "eIk6oB2kYDX2"
      }
    },
    {
      "cell_type": "code",
      "source": [
        "a = np.array([[1,2,3,4,5,6,7],[8,9,10,11,12,13,14]])\n",
        "print(a)"
      ],
      "metadata": {
        "colab": {
          "base_uri": "https://localhost:8080/"
        },
        "id": "aq7uBj8TYW6j",
        "outputId": "5b2b8c88-d158-42f1-de2a-aa9b0fa17c98"
      },
      "execution_count": 64,
      "outputs": [
        {
          "output_type": "stream",
          "name": "stdout",
          "text": [
            "[[ 1  2  3  4  5  6  7]\n",
            " [ 8  9 10 11 12 13 14]]\n"
          ]
        }
      ]
    },
    {
      "cell_type": "code",
      "source": [],
      "metadata": {
        "id": "YhPRQFvVaOfh"
      },
      "execution_count": null,
      "outputs": []
    },
    {
      "cell_type": "code",
      "source": [
        "# get specific element [roww, column] (comeca com 0 igual listas) 0 pega o primeiro [0,0]\n",
        "#quero pegar o 13 entao esta na segunda  fileira(1)  coluna (5)\n",
        "a[1,5]"
      ],
      "metadata": {
        "colab": {
          "base_uri": "https://localhost:8080/"
        },
        "id": "_Imzm-WtYYm_",
        "outputId": "265a73e2-a17b-48b5-d679-c33e165f0a50"
      },
      "execution_count": 46,
      "outputs": [
        {
          "output_type": "execute_result",
          "data": {
            "text/plain": [
              "13"
            ]
          },
          "metadata": {},
          "execution_count": 46
        }
      ]
    },
    {
      "cell_type": "code",
      "source": [
        "#get specific row\n",
        "print(a[1,:])\n",
        "print(a[1, 2 : 4]) # pega no intervalo entre a segunda (1) e a 5 (4) e nao inclui elas"
      ],
      "metadata": {
        "colab": {
          "base_uri": "https://localhost:8080/"
        },
        "id": "Ij4bnOm8aTPL",
        "outputId": "424c702f-bfbd-4ef5-f268-0c63add1a4c1"
      },
      "execution_count": 55,
      "outputs": [
        {
          "output_type": "stream",
          "name": "stdout",
          "text": [
            "[ 8  9 10 11 12 13 14]\n",
            "[10 11]\n"
          ]
        }
      ]
    },
    {
      "cell_type": "code",
      "source": [
        "#get specific column (todos tem a mesma estrutura de [roww,column] e de [ : ])\n",
        "a[:,2]"
      ],
      "metadata": {
        "colab": {
          "base_uri": "https://localhost:8080/"
        },
        "id": "brYyEF2LbiPd",
        "outputId": "bcb2261f-dd45-4558-e0a0-16c6439ebd68"
      },
      "execution_count": 59,
      "outputs": [
        {
          "output_type": "execute_result",
          "data": {
            "text/plain": [
              "array([ 3, 10])"
            ]
          },
          "metadata": {},
          "execution_count": 59
        }
      ]
    },
    {
      "cell_type": "code",
      "source": [
        "# get little more \"fancy\" [row,startindex : endingindex : stepsize]\n",
        "print(a[0,1:6:1])\n",
        "print(a[0,1:6:2]) # vai de dois em dois pois tem o 2 de stepsize"
      ],
      "metadata": {
        "colab": {
          "base_uri": "https://localhost:8080/"
        },
        "id": "NSRLaMOjcOaZ",
        "outputId": "4e494f8f-7010-4821-9782-47cd2511ef15"
      },
      "execution_count": 62,
      "outputs": [
        {
          "output_type": "stream",
          "name": "stdout",
          "text": [
            "[2 3 4 5 6]\n",
            "[2 4 6]\n"
          ]
        }
      ]
    },
    {
      "cell_type": "code",
      "source": [
        "#changing\n",
        "\n",
        "a[1,5] = 20\n",
        "print(a)"
      ],
      "metadata": {
        "colab": {
          "base_uri": "https://localhost:8080/",
          "height": 106
        },
        "id": "vN2MDfaRcPkZ",
        "outputId": "6154695c-7b18-494a-ea36-7227b257564e"
      },
      "execution_count": 1,
      "outputs": [
        {
          "output_type": "error",
          "ename": "SyntaxError",
          "evalue": "invalid decimal literal (<ipython-input-1-d0ed2f5c1b8b>, line 4)",
          "traceback": [
            "\u001b[0;36m  File \u001b[0;32m\"<ipython-input-1-d0ed2f5c1b8b>\"\u001b[0;36m, line \u001b[0;32m4\u001b[0m\n\u001b[0;31m    print(a{:.2f})\u001b[0m\n\u001b[0m              ^\u001b[0m\n\u001b[0;31mSyntaxError\u001b[0m\u001b[0;31m:\u001b[0m invalid decimal literal\n"
          ]
        }
      ]
    },
    {
      "cell_type": "code",
      "source": [
        "#ex 3D"
      ],
      "metadata": {
        "id": "38UVUGZxcQSR"
      },
      "execution_count": null,
      "outputs": []
    },
    {
      "cell_type": "code",
      "source": [
        "b = np.array([[[1, 2], [3, 4]], [[5, 6], [7, 8]]])\n",
        "\n",
        "print(b)"
      ],
      "metadata": {
        "colab": {
          "base_uri": "https://localhost:8080/"
        },
        "id": "YuFJil38cQUW",
        "outputId": "a171b6da-6c43-4655-8b8a-b7e2bd910ec5"
      },
      "execution_count": 68,
      "outputs": [
        {
          "output_type": "stream",
          "name": "stdout",
          "text": [
            "[[[1 2]\n",
            "  [3 4]]\n",
            "\n",
            " [[5 6]\n",
            "  [7 8]]]\n"
          ]
        }
      ]
    },
    {
      "cell_type": "code",
      "source": [
        "#get specific element (work outside in)\\\n",
        "print(b[0,1,1])\n",
        "print(\",,,,,,,\")\n",
        "print(b[:, 1,:])\n",
        "print(\",,,,,,,\")\n",
        "print(b[0,1,:])\n",
        "print(\",,,,,,,\")\n",
        "print(b[:,1,1])"
      ],
      "metadata": {
        "colab": {
          "base_uri": "https://localhost:8080/"
        },
        "id": "dCw87VrLjXGI",
        "outputId": "baff886c-f180-4a2c-cfa0-e948dbfbd94d"
      },
      "execution_count": 75,
      "outputs": [
        {
          "output_type": "stream",
          "name": "stdout",
          "text": [
            "4\n",
            ",,,,,,,\n",
            "[[3 4]\n",
            " [7 8]]\n",
            ",,,,,,,\n",
            "[3 4]\n",
            ",,,,,,,\n",
            "[4 8]\n"
          ]
        }
      ]
    },
    {
      "cell_type": "code",
      "source": [
        "#replace\n",
        "b[:, 1,:]= [[9, 9], [8, 8]]\n",
        "print(b)\n"
      ],
      "metadata": {
        "colab": {
          "base_uri": "https://localhost:8080/"
        },
        "id": "lGku1pujjvk6",
        "outputId": "1d126b08-3869-494f-9911-459b54726261"
      },
      "execution_count": 76,
      "outputs": [
        {
          "output_type": "stream",
          "name": "stdout",
          "text": [
            "[[[1 2]\n",
            "  [9 9]]\n",
            "\n",
            " [[5 6]\n",
            "  [8 8]]]\n"
          ]
        }
      ]
    }
  ]
}